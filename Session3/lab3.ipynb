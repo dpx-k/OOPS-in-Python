{
 "cells": [
  {
   "cell_type": "code",
   "execution_count": 10,
   "metadata": {},
   "outputs": [
    {
     "name": "stdout",
     "output_type": "stream",
     "text": [
      "Sparrow flies with 2 wings\n",
      "Ingrid flies with 2 wings\n"
     ]
    }
   ],
   "source": [
    "class Bird: \n",
    "    wings = 2\n",
    "\n",
    "    @classmethod\n",
    "    def fly(cls, name): \n",
    "        print(f'{name} flies with {cls.wings} wings')\n",
    "\n",
    "Bird.fly('Sparrow')\n",
    "Bird.fly(\"Ingrid\")"
   ]
  },
  {
   "cell_type": "code",
   "execution_count": 12,
   "metadata": {},
   "outputs": [
    {
     "name": "stdout",
     "output_type": "stream",
     "text": [
      "No. of instances created:  3\n"
     ]
    }
   ],
   "source": [
    "# Understanding static methods \n",
    "\n",
    "class Myclass: \n",
    "    n = 0 # this is a class variable or static variable \n",
    "    \n",
    "    def __init__(self):\n",
    "        Myclass.n = Myclass.n+1\n",
    "\n",
    "    # static method to display the no. of instances \n",
    "    @staticmethod \n",
    "    def noObjects(): \n",
    "        print('No. of instances created: ', Myclass.n)\n",
    "\n",
    "object1 = Myclass()\n",
    "object2 = Myclass()\n",
    "object3 = Myclass()\n",
    "\n",
    "Myclass.noObjects()"
   ]
  },
  {
   "cell_type": "code",
   "execution_count": 25,
   "metadata": {},
   "outputs": [
    {
     "name": "stdout",
     "output_type": "stream",
     "text": [
      "Name:  Deepak\n",
      "DOB 2/2/2006\n",
      "yellidya? Yelahanka\n"
     ]
    }
   ],
   "source": [
    "class Person: \n",
    "    def __init__(self):\n",
    "        self.name = 'Deepak'\n",
    "        self.db = self.Dob()\n",
    "        self.address = self.yellidya()\n",
    "\n",
    "    def display(self): \n",
    "        print(\"Name: \", self.name)\n",
    "\n",
    "    #inner class \n",
    "    class Dob: \n",
    "        def __init__(self): \n",
    "            self.dd = 2\n",
    "            self.mm = 2\n",
    "            self.yy = 2006\n",
    "        \n",
    "        def display(self): \n",
    "            print(f'DOB {self.dd}/{self.mm}/{self.yy}')\n",
    "\n",
    "    class yellidya: \n",
    "        def __init__(self): \n",
    "            self.address = \"Yelahanka\"\n",
    "        \n",
    "        def display(self): \n",
    "            print(\"yellidya?\", self.address)\n",
    "\n",
    "\n",
    "me = Person()\n",
    "me.display()\n",
    "\n",
    "me = Person.Dob()\n",
    "me.display()\n",
    "\n",
    "me = Person.yellidya()\n",
    "me.display()"
   ]
  },
  {
   "cell_type": "code",
   "execution_count": null,
   "metadata": {},
   "outputs": [
    {
     "name": "stdout",
     "output_type": "stream",
     "text": [
      "id:  166\n",
      "name:  Deepak\n",
      "salary:  5001000\n"
     ]
    }
   ],
   "source": [
    "class emp: \n",
    "    def __init__(self, id, name, salary=0): \n",
    "        self.id = id\n",
    "        self.name = name\n",
    "        self.salary = salary  \n",
    "\n",
    "    def display(self): \n",
    "        print('id: ', self.id)\n",
    "        print('name: ', self.name)\n",
    "        print('salary: ', self.salary) \n",
    "\n",
    "class myclass: \n",
    "    @staticmethod\n",
    "    def mymethod(e): \n",
    "        e.salary += 1000  \n",
    "        e.display()\n",
    "\n",
    "e1 = emp(166, \"Deepak\", 5000000) \n",
    "myclass.mymethod(e1)  \n"
   ]
  }
 ],
 "metadata": {
  "kernelspec": {
   "display_name": "newenv",
   "language": "python",
   "name": "python3"
  },
  "language_info": {
   "codemirror_mode": {
    "name": "ipython",
    "version": 3
   },
   "file_extension": ".py",
   "mimetype": "text/x-python",
   "name": "python",
   "nbconvert_exporter": "python",
   "pygments_lexer": "ipython3",
   "version": "3.12.7"
  }
 },
 "nbformat": 4,
 "nbformat_minor": 2
}
