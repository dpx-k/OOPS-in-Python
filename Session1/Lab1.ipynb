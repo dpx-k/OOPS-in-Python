{
 "cells": [
  {
   "cell_type": "code",
   "execution_count": 6,
   "metadata": {},
   "outputs": [
    {
     "name": "stdout",
     "output_type": "stream",
     "text": [
      "Orange\n",
      "0.2\n",
      "Ball point\n",
      "Blue\n",
      "Black\n",
      "Gel\n"
     ]
    }
   ],
   "source": [
    "class Pen:\n",
    "    def __init__(self):\n",
    "        self.color = 'Orange'\n",
    "        self.ink = 'Blue'\n",
    "        self.size = 0.2\n",
    "        self.type = 'Ball point'\n",
    "\n",
    "pen1 = Pen()        # instance of a class / An Object \n",
    "print(pen1.color) # displays the instance in the console\n",
    "print(pen1.size)\n",
    "print(pen1.type)\n",
    "print(pen1.ink)\n",
    "\n",
    "pen2 = Pen()\n",
    "\n",
    "pen2.ink = \"Black\"\n",
    "pen2.type = \"Gel\"\n",
    "\n",
    "print(pen2.ink)\n",
    "print(pen2.type)"
   ]
  },
  {
   "cell_type": "code",
   "execution_count": 17,
   "metadata": {},
   "outputs": [
    {
     "name": "stdout",
     "output_type": "stream",
     "text": [
      "Ink: Black\n",
      "Size: 0.2\n",
      "\n",
      "Ink: Blue\n",
      "Size: 0.3\n",
      "\n",
      "Ink: Red\n",
      "Size: 0.5\n",
      "\n"
     ]
    }
   ],
   "source": [
    "class Pen:\n",
    "    def __init__(self, ink, size):\n",
    "        self.ink = ink\n",
    "        self.size = size\n",
    "    def display(self):\n",
    "        print(f\"Ink: {self.ink}\")\n",
    "        print(f\"Size: {self.size}\\n\")\n",
    "\n",
    "pen1 = Pen('Black', 0.2)\n",
    "pen1.display()\n",
    "\n",
    "pen2 = Pen('Blue', 0.3)\n",
    "pen2.display()\n",
    "\n",
    "pen3 = Pen('Red', 0.5)\n",
    "pen3.display()\n"
   ]
  },
  {
   "cell_type": "code",
   "execution_count": 22,
   "metadata": {},
   "outputs": [
    {
     "name": "stdout",
     "output_type": "stream",
     "text": [
      "Deepak\n",
      "18\n"
     ]
    }
   ],
   "source": [
    "# student class \n",
    "\n",
    "class MyClass: \n",
    "    def __init__(self): \n",
    "        self.name = \"Deepak\"; \n",
    "        self.age = 18; \n",
    "\n",
    "student1 = MyClass()\n",
    "print(student1.name)\n",
    "print(student1.age)\n",
    "\n"
   ]
  },
  {
   "cell_type": "code",
   "execution_count": 24,
   "metadata": {},
   "outputs": [
    {
     "name": "stdout",
     "output_type": "stream",
     "text": [
      "Brand: Suzuki\n",
      "Year: 1992\n",
      "\n",
      "Brand: BMW\n",
      "Year: 2004\n",
      "\n"
     ]
    }
   ],
   "source": [
    "# Car class\n",
    "\n",
    "class Car: \n",
    "    def __init__(self, brand, year): \n",
    "        self.brand = brand\n",
    "        self.year = year\n",
    "\n",
    "    def display(self): \n",
    "        print(f\"Brand: {self.brand}\")\n",
    "        print(f\"Year: {self.year}\\n\")\n",
    "\n",
    "car1 = Car(\"Suzuki\", 1992)\n",
    "car1.display()\n",
    "\n",
    "car2 = Car(\"BMW\", 2004)\n",
    "car2.display()\n",
    "\n"
   ]
  },
  {
   "cell_type": "code",
   "execution_count": 5,
   "metadata": {},
   "outputs": [
    {
     "name": "stdout",
     "output_type": "stream",
     "text": [
      "Name: Zebra\n",
      "Age: 26\n",
      "\n",
      "Name: Sea Monster\n",
      "Age: 45\n",
      "\n"
     ]
    }
   ],
   "source": [
    "# Animal Class \n",
    "\n",
    "class Animal: \n",
    "    def __init__(self, name, age):\n",
    "        self.name = name\n",
    "        self.age = age\n",
    "\n",
    "    def display(self): \n",
    "        print(f\"Name: {self.name}\")\n",
    "        print(f\"Age: {self.age}\\n\")\n",
    "\n",
    "animal1 = Animal(\"Zebra\", 26)\n",
    "animal1.display()\n",
    "\n",
    "animal2 = Animal(\"Sea Monster\", 45)\n",
    "animal2.display()\n",
    "\n",
    "\n",
    "        "
   ]
  },
  {
   "cell_type": "code",
   "execution_count": null,
   "metadata": {},
   "outputs": [],
   "source": []
  }
 ],
 "metadata": {
  "kernelspec": {
   "display_name": "newenv",
   "language": "python",
   "name": "python3"
  },
  "language_info": {
   "codemirror_mode": {
    "name": "ipython",
    "version": 3
   },
   "file_extension": ".py",
   "mimetype": "text/x-python",
   "name": "python",
   "nbconvert_exporter": "python",
   "pygments_lexer": "ipython3",
   "version": "3.12.7"
  }
 },
 "nbformat": 4,
 "nbformat_minor": 2
}
