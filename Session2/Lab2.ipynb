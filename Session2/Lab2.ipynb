{
 "cells": [
  {
   "cell_type": "code",
   "execution_count": 1,
   "metadata": {},
   "outputs": [
    {
     "name": "stdout",
     "output_type": "stream",
     "text": [
      "Hello, World!\n"
     ]
    }
   ],
   "source": [
    "print(\"Hello, World!\")"
   ]
  },
  {
   "cell_type": "code",
   "execution_count": 12,
   "metadata": {},
   "outputs": [
    {
     "name": "stdout",
     "output_type": "stream",
     "text": [
      "10\n",
      "10\n",
      "20\n"
     ]
    }
   ],
   "source": [
    "# Student Class \n",
    "\n",
    "class Student: \n",
    "    class_size = 10 # class variable \n",
    "\n",
    "    @classmethod\n",
    "    def modify(cls): \n",
    "        cls.class_size += 10\n",
    "        print(cls.class_size)\n",
    "\n",
    "print(Student.class_size) # printing class size directly using the class variable \n",
    "\n",
    "room1 = Student()\n",
    "print(room1.class_size) # printing the class size using an object variable \n",
    "\n",
    "room2 = Student()\n",
    "room2.modify() # using the modify function\n",
    "\n"
   ]
  },
  {
   "cell_type": "code",
   "execution_count": 33,
   "metadata": {},
   "outputs": [
    {
     "name": "stdout",
     "output_type": "stream",
     "text": [
      "Deepak\n",
      "19\n",
      "20231CAI0166\n",
      "4CAI03\n",
      "Presidency University\n",
      "No of Students in Class:  1\n",
      "\n",
      "Pranav\n",
      "20\n",
      "20231CAI0175\n",
      "4CAI03\n",
      "Presidency University\n",
      "No of Students in Class:  2\n"
     ]
    }
   ],
   "source": [
    "# Exercise method \n",
    "\n",
    "class classroom: \n",
    "    \n",
    "    section = \"4CAI03\"\n",
    "    university = \"Presidency University\"\n",
    "    number_of_students = 0\n",
    "\n",
    "    def __init__(self, name, age, rollno, number_of_students = 0): \n",
    "        self.name = name\n",
    "        self.age = age\n",
    "        self.rollno = rollno\n",
    "        self.modify()\n",
    "\n",
    "    @classmethod\n",
    "    def modify(cls): \n",
    "        cls.number_of_students += 1\n",
    "       \n",
    "    def display(self): \n",
    "        print(self.name)\n",
    "        print(self.age)\n",
    "        print(self.rollno)\n",
    "        print(self.section)\n",
    "        print(self.university)\n",
    "        print(\"No of Students in Class: \", self.number_of_students)\n",
    "        \n",
    "\n",
    "student1 = classroom(\"Deepak\", 19, \"20231CAI0166\")\n",
    "student1.display()\n",
    "\n",
    "print()\n",
    "\n",
    "student2 = classroom(\"Pranav\", 20, \"20231CAI0175\")\n",
    "student2.display()\n",
    "       "
   ]
  },
  {
   "cell_type": "code",
   "execution_count": null,
   "metadata": {},
   "outputs": [],
   "source": [
    "class classRoom: \n",
    "    def __init__(): \n",
    "        "
   ]
  },
  {
   "cell_type": "markdown",
   "metadata": {},
   "source": [
    "two types of variables\n",
    "instance and class variables \n",
    "\n",
    "class variables are also called as static variables \n",
    "how many copy does a instance variable - depends on number of objects\n",
    "how many copy does a class variable - only 1 which is shared throughout \n",
    "\n"
   ]
  },
  {
   "cell_type": "markdown",
   "metadata": {},
   "source": []
  }
 ],
 "metadata": {
  "kernelspec": {
   "display_name": "newenv",
   "language": "python",
   "name": "python3"
  },
  "language_info": {
   "codemirror_mode": {
    "name": "ipython",
    "version": 3
   },
   "file_extension": ".py",
   "mimetype": "text/x-python",
   "name": "python",
   "nbconvert_exporter": "python",
   "pygments_lexer": "ipython3",
   "version": "3.12.7"
  }
 },
 "nbformat": 4,
 "nbformat_minor": 2
}
