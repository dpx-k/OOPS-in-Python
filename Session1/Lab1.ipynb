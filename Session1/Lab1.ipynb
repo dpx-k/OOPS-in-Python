{
 "cells": [
  {
   "cell_type": "code",
   "execution_count": 2,
   "metadata": {},
   "outputs": [
    {
     "name": "stdout",
     "output_type": "stream",
     "text": [
      "Hello, World!\n"
     ]
    }
   ],
   "source": [
    "print(\"Hello, World!\")"
   ]
  },
  {
   "cell_type": "code",
   "execution_count": 5,
   "metadata": {},
   "outputs": [
    {
     "name": "stdout",
     "output_type": "stream",
     "text": [
      "Orange\n",
      "0.2\n",
      "Ball point\n",
      "Blue\n"
     ]
    }
   ],
   "source": [
    "class Pen:\n",
    "    def __init__(self):\n",
    "        self.color = 'Orange'\n",
    "        self.ink = 'Blue'\n",
    "        self.size = 0.2\n",
    "        self.type = 'Ball point'\n",
    "\n",
    "pen1 = Pen()\n",
    "print(pen1.color)\n",
    "print(pen1.size)\n",
    "print(pen1.type)\n",
    "print(pen1.ink)"
   ]
  }
 ],
 "metadata": {
  "kernelspec": {
   "display_name": "newenv",
   "language": "python",
   "name": "python3"
  },
  "language_info": {
   "codemirror_mode": {
    "name": "ipython",
    "version": 3
   },
   "file_extension": ".py",
   "mimetype": "text/x-python",
   "name": "python",
   "nbconvert_exporter": "python",
   "pygments_lexer": "ipython3",
   "version": "3.12.7"
  }
 },
 "nbformat": 4,
 "nbformat_minor": 2
}
